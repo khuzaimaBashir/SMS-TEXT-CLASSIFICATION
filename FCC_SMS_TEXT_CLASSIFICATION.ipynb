{
  "nbformat": 4,
  "nbformat_minor": 0,
  "metadata": {
    "colab": {
      "name": "Copy of fcc_sms_text_classification.ipynb",
      "provenance": [],
      "collapsed_sections": [],
      "toc_visible": true
    },
    "kernelspec": {
      "display_name": "Python 3",
      "name": "python3"
    }
  },
  "cells": [
    {
      "cell_type": "markdown",
      "metadata": {
        "id": "Eg62Pmz3o83v"
      },
      "source": [
        "*Note: You are currently reading this using Google Colaboratory which is a cloud-hosted version of Jupyter Notebook. This is a document containing both text cells for documentation and runnable code cells. If you are unfamiliar with Jupyter Notebook, watch this 3-minute introduction before starting this challenge: https://www.youtube.com/watch?v=inN8seMm7UI*\n",
        "\n",
        "---\n",
        "\n",
        "In this challenge, you need to create a machine learning model that will classify SMS messages as either \"ham\" or \"spam\". A \"ham\" message is a normal message sent by a friend. A \"spam\" message is an advertisement or a message sent by a company.\n",
        "\n",
        "You should create a function called `predict_message` that takes a message string as an argument and returns a list. The first element in the list should be a number between zero and one that indicates the likeliness of \"ham\" (0) or \"spam\" (1). The second element in the list should be the word \"ham\" or \"spam\", depending on which is most likely.\n",
        "\n",
        "For this challenge, you will use the [SMS Spam Collection dataset](http://www.dt.fee.unicamp.br/~tiago/smsspamcollection/). The dataset has already been grouped into train data and test data.\n",
        "\n",
        "The first two cells import the libraries and data. The final cell tests your model and function. Add your code in between these cells.\n"
      ]
    },
    {
      "cell_type": "code",
      "metadata": {
        "id": "8RZOuS9LWQvv",
        "colab": {
          "base_uri": "https://localhost:8080/"
        },
        "outputId": "8896e6bd-1e21-48a9-d3dd-6a4a206b9ad6"
      },
      "source": [
        "# import libraries\n",
        "try:\n",
        "  # %tensorflow_version only exists in Colab.\n",
        "  !pip install tf-nightly\n",
        "except Exception:\n",
        "  pass\n",
        "import tensorflow as tf\n",
        "import pandas as pd\n",
        "from tensorflow import keras\n",
        "!pip install tensorflow-datasets\n",
        "import tensorflow_datasets as tfds\n",
        "import numpy as np\n",
        "import matplotlib.pyplot as plt\n",
        "\n",
        "print(tf.__version__)"
      ],
      "execution_count": null,
      "outputs": [
        {
          "output_type": "stream",
          "text": [
            "Requirement already satisfied: tf-nightly in /usr/local/lib/python3.7/dist-packages (2.6.0.dev20210530)\n",
            "Requirement already satisfied: gast==0.4.0 in /usr/local/lib/python3.7/dist-packages (from tf-nightly) (0.4.0)\n",
            "Requirement already satisfied: termcolor~=1.1.0 in /usr/local/lib/python3.7/dist-packages (from tf-nightly) (1.1.0)\n",
            "Requirement already satisfied: keras-nightly~=2.6.0.dev in /usr/local/lib/python3.7/dist-packages (from tf-nightly) (2.6.0.dev2021052700)\n",
            "Requirement already satisfied: h5py~=3.1.0 in /usr/local/lib/python3.7/dist-packages (from tf-nightly) (3.1.0)\n",
            "Requirement already satisfied: tf-estimator-nightly~=2.5.0.dev in /usr/local/lib/python3.7/dist-packages (from tf-nightly) (2.5.0.dev2021032601)\n",
            "Requirement already satisfied: grpcio<2.0,>=1.37.0 in /usr/local/lib/python3.7/dist-packages (from tf-nightly) (1.38.0)\n",
            "Requirement already satisfied: google-pasta~=0.2 in /usr/local/lib/python3.7/dist-packages (from tf-nightly) (0.2.0)\n",
            "Requirement already satisfied: typing-extensions~=3.7.4 in /usr/local/lib/python3.7/dist-packages (from tf-nightly) (3.7.4.3)\n",
            "Requirement already satisfied: six~=1.15.0 in /usr/local/lib/python3.7/dist-packages (from tf-nightly) (1.15.0)\n",
            "Requirement already satisfied: keras-preprocessing~=1.1.2 in /usr/local/lib/python3.7/dist-packages (from tf-nightly) (1.1.2)\n",
            "Requirement already satisfied: numpy~=1.19.2 in /usr/local/lib/python3.7/dist-packages (from tf-nightly) (1.19.5)\n",
            "Requirement already satisfied: wheel~=0.35 in /usr/local/lib/python3.7/dist-packages (from tf-nightly) (0.36.2)\n",
            "Requirement already satisfied: absl-py~=0.10 in /usr/local/lib/python3.7/dist-packages (from tf-nightly) (0.12.0)\n",
            "Requirement already satisfied: astunparse~=1.6.3 in /usr/local/lib/python3.7/dist-packages (from tf-nightly) (1.6.3)\n",
            "Requirement already satisfied: wrapt~=1.12.1 in /usr/local/lib/python3.7/dist-packages (from tf-nightly) (1.12.1)\n",
            "Requirement already satisfied: flatbuffers~=1.12.0 in /usr/local/lib/python3.7/dist-packages (from tf-nightly) (1.12)\n",
            "Requirement already satisfied: opt-einsum~=3.3.0 in /usr/local/lib/python3.7/dist-packages (from tf-nightly) (3.3.0)\n",
            "Requirement already satisfied: tb-nightly~=2.6.0.a in /usr/local/lib/python3.7/dist-packages (from tf-nightly) (2.6.0a20210529)\n",
            "Requirement already satisfied: protobuf>=3.9.2 in /usr/local/lib/python3.7/dist-packages (from tf-nightly) (3.12.4)\n",
            "Requirement already satisfied: cached-property; python_version < \"3.8\" in /usr/local/lib/python3.7/dist-packages (from h5py~=3.1.0->tf-nightly) (1.5.2)\n",
            "Requirement already satisfied: tensorboard-data-server<0.7.0,>=0.6.0 in /usr/local/lib/python3.7/dist-packages (from tb-nightly~=2.6.0.a->tf-nightly) (0.6.1)\n",
            "Requirement already satisfied: setuptools>=41.0.0 in /usr/local/lib/python3.7/dist-packages (from tb-nightly~=2.6.0.a->tf-nightly) (56.1.0)\n",
            "Requirement already satisfied: werkzeug>=0.11.15 in /usr/local/lib/python3.7/dist-packages (from tb-nightly~=2.6.0.a->tf-nightly) (1.0.1)\n",
            "Requirement already satisfied: google-auth-oauthlib<0.5,>=0.4.1 in /usr/local/lib/python3.7/dist-packages (from tb-nightly~=2.6.0.a->tf-nightly) (0.4.4)\n",
            "Requirement already satisfied: tensorboard-plugin-wit>=1.6.0 in /usr/local/lib/python3.7/dist-packages (from tb-nightly~=2.6.0.a->tf-nightly) (1.8.0)\n",
            "Requirement already satisfied: markdown>=2.6.8 in /usr/local/lib/python3.7/dist-packages (from tb-nightly~=2.6.0.a->tf-nightly) (3.3.4)\n",
            "Requirement already satisfied: requests<3,>=2.21.0 in /usr/local/lib/python3.7/dist-packages (from tb-nightly~=2.6.0.a->tf-nightly) (2.23.0)\n",
            "Requirement already satisfied: google-auth<2,>=1.6.3 in /usr/local/lib/python3.7/dist-packages (from tb-nightly~=2.6.0.a->tf-nightly) (1.30.0)\n",
            "Requirement already satisfied: requests-oauthlib>=0.7.0 in /usr/local/lib/python3.7/dist-packages (from google-auth-oauthlib<0.5,>=0.4.1->tb-nightly~=2.6.0.a->tf-nightly) (1.3.0)\n",
            "Requirement already satisfied: importlib-metadata; python_version < \"3.8\" in /usr/local/lib/python3.7/dist-packages (from markdown>=2.6.8->tb-nightly~=2.6.0.a->tf-nightly) (4.0.1)\n",
            "Requirement already satisfied: chardet<4,>=3.0.2 in /usr/local/lib/python3.7/dist-packages (from requests<3,>=2.21.0->tb-nightly~=2.6.0.a->tf-nightly) (3.0.4)\n",
            "Requirement already satisfied: idna<3,>=2.5 in /usr/local/lib/python3.7/dist-packages (from requests<3,>=2.21.0->tb-nightly~=2.6.0.a->tf-nightly) (2.10)\n",
            "Requirement already satisfied: urllib3!=1.25.0,!=1.25.1,<1.26,>=1.21.1 in /usr/local/lib/python3.7/dist-packages (from requests<3,>=2.21.0->tb-nightly~=2.6.0.a->tf-nightly) (1.24.3)\n",
            "Requirement already satisfied: certifi>=2017.4.17 in /usr/local/lib/python3.7/dist-packages (from requests<3,>=2.21.0->tb-nightly~=2.6.0.a->tf-nightly) (2020.12.5)\n",
            "Requirement already satisfied: cachetools<5.0,>=2.0.0 in /usr/local/lib/python3.7/dist-packages (from google-auth<2,>=1.6.3->tb-nightly~=2.6.0.a->tf-nightly) (4.2.2)\n",
            "Requirement already satisfied: rsa<5,>=3.1.4; python_version >= \"3.6\" in /usr/local/lib/python3.7/dist-packages (from google-auth<2,>=1.6.3->tb-nightly~=2.6.0.a->tf-nightly) (4.7.2)\n",
            "Requirement already satisfied: pyasn1-modules>=0.2.1 in /usr/local/lib/python3.7/dist-packages (from google-auth<2,>=1.6.3->tb-nightly~=2.6.0.a->tf-nightly) (0.2.8)\n",
            "Requirement already satisfied: oauthlib>=3.0.0 in /usr/local/lib/python3.7/dist-packages (from requests-oauthlib>=0.7.0->google-auth-oauthlib<0.5,>=0.4.1->tb-nightly~=2.6.0.a->tf-nightly) (3.1.0)\n",
            "Requirement already satisfied: zipp>=0.5 in /usr/local/lib/python3.7/dist-packages (from importlib-metadata; python_version < \"3.8\"->markdown>=2.6.8->tb-nightly~=2.6.0.a->tf-nightly) (3.4.1)\n",
            "Requirement already satisfied: pyasn1>=0.1.3 in /usr/local/lib/python3.7/dist-packages (from rsa<5,>=3.1.4; python_version >= \"3.6\"->google-auth<2,>=1.6.3->tb-nightly~=2.6.0.a->tf-nightly) (0.4.8)\n",
            "Requirement already satisfied: tensorflow-datasets in /usr/local/lib/python3.7/dist-packages (4.0.1)\n",
            "Requirement already satisfied: importlib-resources; python_version < \"3.9\" in /usr/local/lib/python3.7/dist-packages (from tensorflow-datasets) (5.1.3)\n",
            "Requirement already satisfied: tensorflow-metadata in /usr/local/lib/python3.7/dist-packages (from tensorflow-datasets) (1.0.0)\n",
            "Requirement already satisfied: future in /usr/local/lib/python3.7/dist-packages (from tensorflow-datasets) (0.16.0)\n",
            "Requirement already satisfied: termcolor in /usr/local/lib/python3.7/dist-packages (from tensorflow-datasets) (1.1.0)\n",
            "Requirement already satisfied: promise in /usr/local/lib/python3.7/dist-packages (from tensorflow-datasets) (2.3)\n",
            "Requirement already satisfied: absl-py in /usr/local/lib/python3.7/dist-packages (from tensorflow-datasets) (0.12.0)\n",
            "Requirement already satisfied: dm-tree in /usr/local/lib/python3.7/dist-packages (from tensorflow-datasets) (0.1.6)\n",
            "Requirement already satisfied: tqdm in /usr/local/lib/python3.7/dist-packages (from tensorflow-datasets) (4.41.1)\n",
            "Requirement already satisfied: numpy in /usr/local/lib/python3.7/dist-packages (from tensorflow-datasets) (1.19.5)\n",
            "Requirement already satisfied: attrs>=18.1.0 in /usr/local/lib/python3.7/dist-packages (from tensorflow-datasets) (21.2.0)\n",
            "Requirement already satisfied: dill in /usr/local/lib/python3.7/dist-packages (from tensorflow-datasets) (0.3.3)\n",
            "Requirement already satisfied: protobuf>=3.6.1 in /usr/local/lib/python3.7/dist-packages (from tensorflow-datasets) (3.12.4)\n",
            "Requirement already satisfied: requests>=2.19.0 in /usr/local/lib/python3.7/dist-packages (from tensorflow-datasets) (2.23.0)\n",
            "Requirement already satisfied: six in /usr/local/lib/python3.7/dist-packages (from tensorflow-datasets) (1.15.0)\n",
            "Requirement already satisfied: zipp>=0.4; python_version < \"3.8\" in /usr/local/lib/python3.7/dist-packages (from importlib-resources; python_version < \"3.9\"->tensorflow-datasets) (3.4.1)\n",
            "Requirement already satisfied: googleapis-common-protos<2,>=1.52.0 in /usr/local/lib/python3.7/dist-packages (from tensorflow-metadata->tensorflow-datasets) (1.53.0)\n",
            "Requirement already satisfied: setuptools in /usr/local/lib/python3.7/dist-packages (from protobuf>=3.6.1->tensorflow-datasets) (56.1.0)\n",
            "Requirement already satisfied: chardet<4,>=3.0.2 in /usr/local/lib/python3.7/dist-packages (from requests>=2.19.0->tensorflow-datasets) (3.0.4)\n",
            "Requirement already satisfied: urllib3!=1.25.0,!=1.25.1,<1.26,>=1.21.1 in /usr/local/lib/python3.7/dist-packages (from requests>=2.19.0->tensorflow-datasets) (1.24.3)\n",
            "Requirement already satisfied: idna<3,>=2.5 in /usr/local/lib/python3.7/dist-packages (from requests>=2.19.0->tensorflow-datasets) (2.10)\n",
            "Requirement already satisfied: certifi>=2017.4.17 in /usr/local/lib/python3.7/dist-packages (from requests>=2.19.0->tensorflow-datasets) (2020.12.5)\n",
            "2.6.0-dev20210530\n"
          ],
          "name": "stdout"
        }
      ]
    },
    {
      "cell_type": "code",
      "metadata": {
        "id": "lMHwYXHXCar3",
        "colab": {
          "base_uri": "https://localhost:8080/"
        },
        "outputId": "02ddb96f-503a-4268-8312-bf92147fbc63"
      },
      "source": [
        "# get data files\n",
        "!wget https://cdn.freecodecamp.org/project-data/sms/train-data.tsv\n",
        "!wget https://cdn.freecodecamp.org/project-data/sms/valid-data.tsv\n",
        "\n",
        "train_file_path = \"train-data.tsv\"\n",
        "test_file_path = \"valid-data.tsv\""
      ],
      "execution_count": null,
      "outputs": [
        {
          "output_type": "stream",
          "text": [
            "--2021-05-30 16:26:13--  https://cdn.freecodecamp.org/project-data/sms/train-data.tsv\n",
            "Resolving cdn.freecodecamp.org (cdn.freecodecamp.org)... 172.67.70.149, 104.26.2.33, 104.26.3.33, ...\n",
            "Connecting to cdn.freecodecamp.org (cdn.freecodecamp.org)|172.67.70.149|:443... connected.\n",
            "HTTP request sent, awaiting response... 200 OK\n",
            "Length: 358233 (350K) [text/tab-separated-values]\n",
            "Saving to: ‘train-data.tsv.1’\n",
            "\n",
            "\rtrain-data.tsv.1      0%[                    ]       0  --.-KB/s               \rtrain-data.tsv.1    100%[===================>] 349.84K  --.-KB/s    in 0.007s  \n",
            "\n",
            "2021-05-30 16:26:13 (52.5 MB/s) - ‘train-data.tsv.1’ saved [358233/358233]\n",
            "\n",
            "--2021-05-30 16:26:13--  https://cdn.freecodecamp.org/project-data/sms/valid-data.tsv\n",
            "Resolving cdn.freecodecamp.org (cdn.freecodecamp.org)... 172.67.70.149, 104.26.2.33, 104.26.3.33, ...\n",
            "Connecting to cdn.freecodecamp.org (cdn.freecodecamp.org)|172.67.70.149|:443... connected.\n",
            "HTTP request sent, awaiting response... 200 OK\n",
            "Length: 118774 (116K) [text/tab-separated-values]\n",
            "Saving to: ‘valid-data.tsv.1’\n",
            "\n",
            "valid-data.tsv.1    100%[===================>] 115.99K  --.-KB/s    in 0.003s  \n",
            "\n",
            "2021-05-30 16:26:13 (39.9 MB/s) - ‘valid-data.tsv.1’ saved [118774/118774]\n",
            "\n"
          ],
          "name": "stdout"
        }
      ]
    },
    {
      "cell_type": "code",
      "metadata": {
        "colab": {
          "base_uri": "https://localhost:8080/"
        },
        "id": "Uj2DP3kM5HAx",
        "outputId": "8e148384-8aa9-45de-ae6b-c51ca8fee3de"
      },
      "source": [
        "#data loading and cleaning if required\n",
        "dataset = pd.read_csv(train_file_path, sep ='\\t',names=[\"label\", \"message\"])\n",
        "dataset.head()\n",
        "\n",
        "\n",
        "dataset.isnull().sum()\n",
        "dataset.groupby('label').describe()\n",
        "\n",
        "dataset[\"label\"]=dataset[\"label\"].map({'spam':1,'ham':0})\n",
        "dataset.head()\n",
        "dataset['message']\n"
      ],
      "execution_count": null,
      "outputs": [
        {
          "output_type": "execute_result",
          "data": {
            "text/plain": [
              "0       ahhhh...just woken up!had a bad dream about u ...\n",
              "1                                you can never do nothing\n",
              "2       now u sound like manky scouse boy steve,like! ...\n",
              "3       mum say we wan to go then go... then she can s...\n",
              "4       never y lei... i v lazy... got wat? dat day ü ...\n",
              "                              ...                        \n",
              "4174    just woke up. yeesh its late. but i didn't fal...\n",
              "4175    what do u reckon as need 2 arrange transport i...\n",
              "4176    free entry into our £250 weekly competition ju...\n",
              "4177    -pls stop bootydelious (32/f) is inviting you ...\n",
              "4178    tell my  bad character which u dnt lik in me. ...\n",
              "Name: message, Length: 4179, dtype: object"
            ]
          },
          "metadata": {
            "tags": []
          },
          "execution_count": 36
        }
      ]
    },
    {
      "cell_type": "code",
      "metadata": {
        "id": "80DL6e61-O_N"
      },
      "source": [
        "from sklearn.model_selection import train_test_split\n",
        "from tensorflow.keras.preprocessing.text import Tokenizer\n",
        "from tensorflow.keras.preprocessing.sequence import pad_sequences\n",
        "from tensorflow.keras.models import Sequential\n",
        "from tensorflow.keras.layers import Embedding, GlobalAveragePooling1D, Dense, Dropout\n",
        "\n",
        "\n",
        "traindata, testdata, trainlabels, testlabels = train_test_split(dataset['message'], dataset['label'], test_size=0.2)\n",
        "\n",
        "token = Tokenizer(num_words = 500)\n",
        "token.fit_on_texts(traindata)\n",
        "\n",
        "seq = tokenizer.texts_to_sequences(traindata)\n",
        "pad = pad_sequences(seq, maxlen = 150,padding=\"post\",truncating=\"post\")\n",
        "\n",
        "testing_seq = tokenizer.texts_to_sequences(testdata)\n",
        "testing_pad = pad_sequences(testing_seq, maxlen = max_len,padding = \"post\", truncating = \"post\")\n",
        "\n",
        "\n"
      ],
      "execution_count": null,
      "outputs": []
    },
    {
      "cell_type": "code",
      "metadata": {
        "colab": {
          "base_uri": "https://localhost:8080/"
        },
        "id": "_9QoOFrqAOKg",
        "outputId": "597fa4ff-e984-43b9-881b-e21ee7bfde6e"
      },
      "source": [
        "\n",
        "model = Sequential()\n",
        "model.add(Embedding(500, 16, input_length=150))\n",
        "model.add(GlobalAveragePooling1D())\n",
        "model.add(Dense(24, activation='relu'))\n",
        "model.add(Dropout(0.3))\n",
        "model.add(Dense(1, activation='sigmoid'))\n",
        "model.summary()\n",
        "\n",
        "model.compile(loss='binary_crossentropy',optimizer='adam' ,metrics=['accuracy'])"
      ],
      "execution_count": null,
      "outputs": [
        {
          "output_type": "stream",
          "text": [
            "Model: \"sequential_6\"\n",
            "_________________________________________________________________\n",
            "Layer (type)                 Output Shape              Param #   \n",
            "=================================================================\n",
            "embedding_6 (Embedding)      (None, 150, 16)           8000      \n",
            "_________________________________________________________________\n",
            "global_average_pooling1d_6 ( (None, 16)                0         \n",
            "_________________________________________________________________\n",
            "dense_12 (Dense)             (None, 24)                408       \n",
            "_________________________________________________________________\n",
            "dropout_6 (Dropout)          (None, 24)                0         \n",
            "_________________________________________________________________\n",
            "dense_13 (Dense)             (None, 1)                 25        \n",
            "=================================================================\n",
            "Total params: 8,433\n",
            "Trainable params: 8,433\n",
            "Non-trainable params: 0\n",
            "_________________________________________________________________\n"
          ],
          "name": "stdout"
        }
      ]
    },
    {
      "cell_type": "code",
      "metadata": {
        "colab": {
          "base_uri": "https://localhost:8080/"
        },
        "id": "bx1i3hjKDukC",
        "outputId": "95f5f7bd-b35c-4ace-cea8-6ba134a5e73c"
      },
      "source": [
        "history = model.fit(pad, trainlabels, epochs=50, validation_data=(testing_pad, testlabels), verbose=2)\n",
        "model.evaluate(testing_pad, testlabels)\n"
      ],
      "execution_count": null,
      "outputs": [
        {
          "output_type": "stream",
          "text": [
            "Epoch 1/50\n",
            "WARNING:tensorflow:Model was constructed with shape (None, 150) for input KerasTensor(type_spec=TensorSpec(shape=(None, 150), dtype=tf.float32, name='embedding_6_input'), name='embedding_6_input', description=\"created by layer 'embedding_6_input'\"), but it was called on an input with incompatible shape (None, 50).\n",
            "105/105 - 1s - loss: 0.5847 - accuracy: 0.8504 - val_loss: 0.4686 - val_accuracy: 0.8505\n",
            "Epoch 2/50\n",
            "105/105 - 0s - loss: 0.4008 - accuracy: 0.8699 - val_loss: 0.3543 - val_accuracy: 0.8505\n",
            "Epoch 3/50\n",
            "105/105 - 0s - loss: 0.3747 - accuracy: 0.8699 - val_loss: 0.3139 - val_accuracy: 0.8505\n",
            "Epoch 4/50\n",
            "105/105 - 0s - loss: 0.3560 - accuracy: 0.8699 - val_loss: 0.2924 - val_accuracy: 0.8505\n",
            "Epoch 5/50\n",
            "105/105 - 0s - loss: 0.3398 - accuracy: 0.8699 - val_loss: 0.2917 - val_accuracy: 0.8505\n",
            "Epoch 6/50\n",
            "105/105 - 0s - loss: 0.3057 - accuracy: 0.8699 - val_loss: 0.2922 - val_accuracy: 0.8505\n",
            "Epoch 7/50\n",
            "105/105 - 0s - loss: 0.2579 - accuracy: 0.8759 - val_loss: 0.2682 - val_accuracy: 0.8911\n",
            "Epoch 8/50\n",
            "105/105 - 0s - loss: 0.1956 - accuracy: 0.9267 - val_loss: 0.2793 - val_accuracy: 0.8565\n",
            "Epoch 9/50\n",
            "105/105 - 0s - loss: 0.1490 - accuracy: 0.9539 - val_loss: 0.3270 - val_accuracy: 0.8553\n",
            "Epoch 10/50\n",
            "105/105 - 0s - loss: 0.1253 - accuracy: 0.9599 - val_loss: 0.3272 - val_accuracy: 0.8684\n",
            "Epoch 11/50\n",
            "105/105 - 0s - loss: 0.1126 - accuracy: 0.9665 - val_loss: 0.3157 - val_accuracy: 0.8792\n",
            "Epoch 12/50\n",
            "105/105 - 0s - loss: 0.1048 - accuracy: 0.9665 - val_loss: 0.3167 - val_accuracy: 0.8828\n",
            "Epoch 13/50\n",
            "105/105 - 0s - loss: 0.0956 - accuracy: 0.9713 - val_loss: 0.3037 - val_accuracy: 0.8864\n",
            "Epoch 14/50\n",
            "105/105 - 0s - loss: 0.0838 - accuracy: 0.9749 - val_loss: 0.2778 - val_accuracy: 0.9067\n",
            "Epoch 15/50\n",
            "105/105 - 0s - loss: 0.0779 - accuracy: 0.9767 - val_loss: 0.2634 - val_accuracy: 0.9127\n",
            "Epoch 16/50\n",
            "105/105 - 0s - loss: 0.0747 - accuracy: 0.9767 - val_loss: 0.2524 - val_accuracy: 0.9211\n",
            "Epoch 17/50\n",
            "105/105 - 0s - loss: 0.0675 - accuracy: 0.9809 - val_loss: 0.2494 - val_accuracy: 0.9258\n",
            "Epoch 18/50\n",
            "105/105 - 0s - loss: 0.0653 - accuracy: 0.9806 - val_loss: 0.2468 - val_accuracy: 0.9258\n",
            "Epoch 19/50\n",
            "105/105 - 0s - loss: 0.0599 - accuracy: 0.9812 - val_loss: 0.2576 - val_accuracy: 0.9222\n",
            "Epoch 20/50\n",
            "105/105 - 0s - loss: 0.0570 - accuracy: 0.9838 - val_loss: 0.2383 - val_accuracy: 0.9354\n",
            "Epoch 21/50\n",
            "105/105 - 0s - loss: 0.0553 - accuracy: 0.9841 - val_loss: 0.2402 - val_accuracy: 0.9366\n",
            "Epoch 22/50\n",
            "105/105 - 0s - loss: 0.0543 - accuracy: 0.9841 - val_loss: 0.2333 - val_accuracy: 0.9378\n",
            "Epoch 23/50\n",
            "105/105 - 0s - loss: 0.0512 - accuracy: 0.9853 - val_loss: 0.2304 - val_accuracy: 0.9414\n",
            "Epoch 24/50\n",
            "105/105 - 0s - loss: 0.0519 - accuracy: 0.9862 - val_loss: 0.2530 - val_accuracy: 0.9330\n",
            "Epoch 25/50\n",
            "105/105 - 0s - loss: 0.0464 - accuracy: 0.9874 - val_loss: 0.2651 - val_accuracy: 0.9270\n",
            "Epoch 26/50\n",
            "105/105 - 0s - loss: 0.0466 - accuracy: 0.9862 - val_loss: 0.2407 - val_accuracy: 0.9390\n",
            "Epoch 27/50\n",
            "105/105 - 0s - loss: 0.0460 - accuracy: 0.9874 - val_loss: 0.2533 - val_accuracy: 0.9378\n",
            "Epoch 28/50\n",
            "105/105 - 0s - loss: 0.0430 - accuracy: 0.9889 - val_loss: 0.2703 - val_accuracy: 0.9342\n",
            "Epoch 29/50\n",
            "105/105 - 0s - loss: 0.0435 - accuracy: 0.9889 - val_loss: 0.2661 - val_accuracy: 0.9342\n",
            "Epoch 30/50\n",
            "105/105 - 0s - loss: 0.0421 - accuracy: 0.9895 - val_loss: 0.2457 - val_accuracy: 0.9426\n",
            "Epoch 31/50\n",
            "105/105 - 0s - loss: 0.0423 - accuracy: 0.9892 - val_loss: 0.2854 - val_accuracy: 0.9258\n",
            "Epoch 32/50\n",
            "105/105 - 0s - loss: 0.0381 - accuracy: 0.9898 - val_loss: 0.2830 - val_accuracy: 0.9306\n",
            "Epoch 33/50\n",
            "105/105 - 0s - loss: 0.0375 - accuracy: 0.9895 - val_loss: 0.2449 - val_accuracy: 0.9414\n",
            "Epoch 34/50\n",
            "105/105 - 0s - loss: 0.0348 - accuracy: 0.9913 - val_loss: 0.2536 - val_accuracy: 0.9402\n",
            "Epoch 35/50\n",
            "105/105 - 0s - loss: 0.0351 - accuracy: 0.9901 - val_loss: 0.2716 - val_accuracy: 0.9378\n",
            "Epoch 36/50\n",
            "105/105 - 0s - loss: 0.0304 - accuracy: 0.9901 - val_loss: 0.2825 - val_accuracy: 0.9354\n",
            "Epoch 37/50\n",
            "105/105 - 0s - loss: 0.0323 - accuracy: 0.9907 - val_loss: 0.2748 - val_accuracy: 0.9390\n",
            "Epoch 38/50\n",
            "105/105 - 0s - loss: 0.0318 - accuracy: 0.9904 - val_loss: 0.2935 - val_accuracy: 0.9330\n",
            "Epoch 39/50\n",
            "105/105 - 0s - loss: 0.0342 - accuracy: 0.9916 - val_loss: 0.2758 - val_accuracy: 0.9390\n",
            "Epoch 40/50\n",
            "105/105 - 0s - loss: 0.0275 - accuracy: 0.9919 - val_loss: 0.2751 - val_accuracy: 0.9390\n",
            "Epoch 41/50\n",
            "105/105 - 0s - loss: 0.0298 - accuracy: 0.9922 - val_loss: 0.2872 - val_accuracy: 0.9378\n",
            "Epoch 42/50\n",
            "105/105 - 0s - loss: 0.0285 - accuracy: 0.9928 - val_loss: 0.2928 - val_accuracy: 0.9378\n",
            "Epoch 43/50\n",
            "105/105 - 0s - loss: 0.0268 - accuracy: 0.9922 - val_loss: 0.2917 - val_accuracy: 0.9378\n",
            "Epoch 44/50\n",
            "105/105 - 0s - loss: 0.0272 - accuracy: 0.9925 - val_loss: 0.2845 - val_accuracy: 0.9378\n",
            "Epoch 45/50\n",
            "105/105 - 0s - loss: 0.0279 - accuracy: 0.9913 - val_loss: 0.3182 - val_accuracy: 0.9306\n",
            "Epoch 46/50\n",
            "105/105 - 0s - loss: 0.0257 - accuracy: 0.9922 - val_loss: 0.2998 - val_accuracy: 0.9366\n",
            "Epoch 47/50\n",
            "105/105 - 0s - loss: 0.0271 - accuracy: 0.9919 - val_loss: 0.2831 - val_accuracy: 0.9378\n",
            "Epoch 48/50\n",
            "105/105 - 0s - loss: 0.0255 - accuracy: 0.9925 - val_loss: 0.2575 - val_accuracy: 0.9438\n",
            "Epoch 49/50\n",
            "105/105 - 0s - loss: 0.0232 - accuracy: 0.9922 - val_loss: 0.2707 - val_accuracy: 0.9426\n",
            "Epoch 50/50\n",
            "105/105 - 0s - loss: 0.0229 - accuracy: 0.9910 - val_loss: 0.2854 - val_accuracy: 0.9378\n",
            "27/27 [==============================] - 0s 1ms/step - loss: 0.2854 - accuracy: 0.9378\n"
          ],
          "name": "stdout"
        },
        {
          "output_type": "execute_result",
          "data": {
            "text/plain": [
              "[0.28537702560424805, 0.9377990365028381]"
            ]
          },
          "metadata": {
            "tags": []
          },
          "execution_count": 39
        }
      ]
    },
    {
      "cell_type": "code",
      "metadata": {
        "id": "J9tD9yACG6M9",
        "colab": {
          "base_uri": "https://localhost:8080/"
        },
        "outputId": "bd31ce44-3e68-4079-b4d9-e60e19a32ebb"
      },
      "source": [
        "# function to predict messages based on model\n",
        "# (should return list containing prediction and label, ex. [0.008318834938108921, 'ham'])\n",
        "def predict_message(pred_text):\n",
        "    pred_text = [pred_text]\n",
        "\n",
        "    pred_seq = tokenizer.texts_to_sequences(pred_text)\n",
        "    pred_pad = pad_sequences(pred_seq, maxlen =50,\n",
        "                      padding = 'post',\n",
        "                      truncating='post')\n",
        "    pred = (model.predict(pred_pad))\n",
        "    print(pred)\n",
        "    if pred <0.5:\n",
        "      result = [pred,'ham']\n",
        "    else:\n",
        "      result = [pred,'spam']\n",
        "    return result\n",
        "\n",
        "pred_text = \"how are you doing today?\"\n",
        "\n",
        "prediction = predict_message(pred_text)\n",
        "print(prediction)"
      ],
      "execution_count": null,
      "outputs": [
        {
          "output_type": "stream",
          "text": [
            "[[0.00013906]]\n",
            "[array([[0.00013906]], dtype=float32), 'ham']\n"
          ],
          "name": "stdout"
        }
      ]
    },
    {
      "cell_type": "code",
      "metadata": {
        "id": "Dxotov85SjsC",
        "colab": {
          "base_uri": "https://localhost:8080/"
        },
        "outputId": "c61eee7c-b021-4984-837a-a4f8a79a257f"
      },
      "source": [
        "# Run this cell to test your function and model. Do not modify contents.\n",
        "def test_predictions():\n",
        "  test_messages = [\"how are you doing today\",\n",
        "                   \"sale today! to stop texts call 98912460324\",\n",
        "                   \"i dont want to go. can we try it a different day? available sat\",\n",
        "                   \"our new mobile video service is live. just install on your phone to start watching.\",\n",
        "                   \"you have won £1000 cash! call to claim your prize.\",\n",
        "                   \"i'll bring it tomorrow. don't forget the milk.\",\n",
        "                   \"wow, is your arm alright. that happened to me one time too\"\n",
        "                  ]\n",
        "\n",
        "  test_answers = [\"ham\", \"spam\", \"ham\", \"spam\", \"spam\", \"ham\", \"ham\"]\n",
        "  passed = True\n",
        "\n",
        "  for msg, ans in zip(test_messages, test_answers):\n",
        "    prediction = predict_message(msg)\n",
        "    if prediction[1] != ans:\n",
        "      passed = False\n",
        "\n",
        "  if passed:\n",
        "    print(\"You passed the challenge. Great job!\")\n",
        "  else:\n",
        "    print(\"You haven't passed yet. Keep trying.\")\n",
        "\n",
        "test_predictions()\n"
      ],
      "execution_count": null,
      "outputs": [
        {
          "output_type": "stream",
          "text": [
            "[[0.00013906]]\n",
            "[[0.9994533]]\n",
            "[[3.2446717e-06]]\n",
            "[[1.]]\n",
            "[[1.]]\n",
            "[[4.3640202e-07]]\n",
            "[[0.00012317]]\n",
            "You passed the challenge. Great job!\n"
          ],
          "name": "stdout"
        }
      ]
    }
  ]
}